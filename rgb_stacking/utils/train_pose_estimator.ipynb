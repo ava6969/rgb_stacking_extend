{
 "cells": [
  {
   "cell_type": "code",
   "execution_count": 44,
   "outputs": [],
   "source": [
    "import numpy as np\n",
    "import pandas as pd\n",
    "import torch\n",
    "import pickle, glob\n",
    "from PIL import Image\n",
    "from torch.utils.data import Dataset\n",
    "from torchvision import datasets\n",
    "from torchvision.transforms import ToTensor, Compose, Normalize, PILToTensor\n",
    "import matplotlib.pyplot as plt\n",
    "import torchvision\n",
    "from torch.utils.data import DataLoader\n",
    "from rgb_stacking.utils.get_data import KEYS"
   ],
   "metadata": {
    "collapsed": false,
    "pycharm": {
     "name": "#%%\n"
    }
   }
  },
  {
   "cell_type": "code",
   "execution_count": 97,
   "outputs": [],
   "source": [
    "class CustomDataset(Dataset):\n",
    "    def __init__(self, examples, img_transform=None, target_transform=None):\n",
    "        self.examples = examples\n",
    "        self.transform = img_transform\n",
    "        self.target_transform = target_transform\n",
    "\n",
    "    def __len__(self):\n",
    "        return len(self.examples)\n",
    "\n",
    "    def __getitem__(self, idx):\n",
    "        fl, fr, bl, pose = self.examples[idx]\n",
    "        images = torch.stack( [ self.transform(img) for img in [fl, fr, bl]] )\n",
    "        label = torch.from_numpy( pose )\n",
    "        return images, label"
   ],
   "metadata": {
    "collapsed": false,
    "pycharm": {
     "name": "#%%\n"
    }
   }
  },
  {
   "cell_type": "code",
   "execution_count": 69,
   "outputs": [],
   "source": [
    "def load_data():\n",
    "    dfs = glob.glob('../data/*csv')\n",
    "    batch = []\n",
    "\n",
    "    get_file = lambda pov, idx, rank : f'../data/images/IMG_{pov}_{idx}_{rank}.png'\n",
    "\n",
    "    for df_file in dfs:\n",
    "        df = pd.read_csv(df_file)\n",
    "        rank = df_file.split('/')[-1][:-4].split('_')[-1]\n",
    "        for i, id in enumerate(df['id']):\n",
    "            images = [ torch.from_numpy( np.array( Image.open( get_file(pov, id, rank)) ).astype(float) ) for pov in ['fl', 'fr', 'bl']]\n",
    "            batch.append( images )\n",
    "            batch[-1].append( np.array([float(df[k][i]) for k in KEYS], float) )\n",
    "\n",
    "    return batch\n"
   ],
   "metadata": {
    "collapsed": false,
    "pycharm": {
     "name": "#%%\n"
    }
   }
  },
  {
   "cell_type": "code",
   "execution_count": 114,
   "outputs": [],
   "source": [
    "def view(batch, label):\n",
    "    fl, fr, bl = batch\n",
    "\n",
    "    fl = Image.fromarray( fl.cpu().to(torch.uint8).numpy() )\n",
    "    fr = Image.fromarray( fr.cpu().to(torch.uint8).numpy())\n",
    "    bl = Image.fromarray( bl.cpu().to(torch.uint8).numpy() )\n",
    "\n",
    "    fl.show('fl')\n",
    "    fr.show('fr')\n",
    "    bl.show('bl')\n",
    "\n",
    "    print(','.join( f'{k}={label[i]}' for i, k in enumerate(KEYS)))\n",
    "    return fl, fr, bl"
   ],
   "metadata": {
    "collapsed": false,
    "pycharm": {
     "name": "#%%\n"
    }
   }
  },
  {
   "cell_type": "code",
   "execution_count": 71,
   "outputs": [],
   "source": [
    "examples = load_data()"
   ],
   "metadata": {
    "collapsed": false,
    "pycharm": {
     "name": "#%%\n"
    }
   }
  },
  {
   "cell_type": "code",
   "execution_count": 72,
   "outputs": [],
   "source": [
    "sz = len(examples)\n",
    "train_sz, valid_sz = int(0.7*sz), int(0.9*sz)"
   ],
   "metadata": {
    "collapsed": false,
    "pycharm": {
     "name": "#%%\n"
    }
   }
  },
  {
   "cell_type": "code",
   "execution_count": 73,
   "outputs": [],
   "source": [
    "train_dt, valid_dt, test_dt = examples[:train_sz], examples[train_sz:valid_sz], examples[valid_sz:]"
   ],
   "metadata": {
    "collapsed": false,
    "pycharm": {
     "name": "#%%\n"
    }
   }
  },
  {
   "cell_type": "code",
   "execution_count": 74,
   "outputs": [],
   "source": [
    "img_transform = Normalize(0.1307, 0.3081)\n",
    "target_transform = ToTensor()"
   ],
   "metadata": {
    "collapsed": false,
    "pycharm": {
     "name": "#%%\n"
    }
   }
  },
  {
   "cell_type": "code",
   "execution_count": 100,
   "outputs": [],
   "source": [
    "train_ds, valid_ds, test_ds = CustomDataset(train_dt, img_transform, target_transform), \\\n",
    "                              CustomDataset(valid_dt, img_transform, target_transform), \\\n",
    "                              CustomDataset(test_dt, img_transform, target_transform)"
   ],
   "metadata": {
    "collapsed": false,
    "pycharm": {
     "name": "#%%\n"
    }
   }
  },
  {
   "cell_type": "code",
   "execution_count": 101,
   "outputs": [],
   "source": [
    "train_dataloader = DataLoader( train_ds, batch_size=64, shuffle=True)\n",
    "valid_dataloader = DataLoader(valid_ds, batch_size=64, shuffle=False)\n",
    "test_dataloader = DataLoader(test_ds, batch_size=64, shuffle=True)"
   ],
   "metadata": {
    "collapsed": false,
    "pycharm": {
     "name": "#%%\n"
    }
   }
  },
  {
   "cell_type": "code",
   "execution_count": 102,
   "outputs": [],
   "source": [
    "train_features, train_labels = next(iter(train_dataloader))"
   ],
   "metadata": {
    "collapsed": false,
    "pycharm": {
     "name": "#%%\n"
    }
   }
  },
  {
   "cell_type": "code",
   "execution_count": 118,
   "outputs": [
    {
     "name": "stdout",
     "output_type": "stream",
     "text": [
      "rX=0.72289574,rY=-0.104483284,rZ=0.07934863,rQ1=0.11600672,rQ2=0.77320856,rQ3=-0.5900871,rQ4=-0.20121671,bX=0.70034885,bY=-0.013099843,bZ=0.07502708,bQ1=0.72762287,bQ2=-0.5715084,bQ3=0.34906504,bQ4=-0.14864959,gX=0.5397142,gY=-0.03359359,gZ=0.07382866,gQ1=1.5475927e-05,gQ2=0.99348843,gQ3=0.113933064,gQ4=-7.63775e-05\n"
     ]
    }
   ],
   "source": [
    "fl, fr, bl = view((train_features[0][0], train_features[0][1], train_features[0][2]) , train_labels[0])"
   ],
   "metadata": {
    "collapsed": false,
    "pycharm": {
     "name": "#%%\n"
    }
   }
  },
  {
   "cell_type": "code",
   "execution_count": null,
   "outputs": [],
   "source": [],
   "metadata": {
    "collapsed": false,
    "pycharm": {
     "name": "#%%\n"
    }
   }
  }
 ],
 "metadata": {
  "kernelspec": {
   "display_name": "Python 3",
   "language": "python",
   "name": "python3"
  },
  "language_info": {
   "codemirror_mode": {
    "name": "ipython",
    "version": 2
   },
   "file_extension": ".py",
   "mimetype": "text/x-python",
   "name": "python",
   "nbconvert_exporter": "python",
   "pygments_lexer": "ipython2",
   "version": "2.7.6"
  }
 },
 "nbformat": 4,
 "nbformat_minor": 0
}