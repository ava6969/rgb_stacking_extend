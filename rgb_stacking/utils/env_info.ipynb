{
 "cells": [
  {
   "cell_type": "code",
   "execution_count": 1,
   "metadata": {
    "collapsed": true
   },
   "outputs": [],
   "source": [
    "from rgb_stacking import environment"
   ]
  },
  {
   "cell_type": "code",
   "execution_count": 2,
   "outputs": [
    {
     "name": "stderr",
     "output_type": "stream",
     "text": [
      "/home/dewe/rgb_stacking/rgb_stacking_venv/lib/python3.8/site-packages/dm_robotics/moma/effectors/mujoco_actuation.py:127: DeprecationWarning: `np.bool` is a deprecated alias for the builtin `bool`. To silence this warning, use `bool` by itself. Doing this will not modify any behavior and is safe. If you specifically wanted the numpy scalar type, use `np.bool_` here.\n",
      "Deprecated in NumPy 1.20; for more details and guidance: https://numpy.org/devdocs/release/1.20.0-notes.html#deprecations\n",
      "  is_limited = physics.bind(actuators).ctrllimited.astype(np.bool)\n",
      "/home/dewe/rgb_stacking/rgb_stacking_venv/lib/python3.8/site-packages/dm_robotics/moma/effectors/mujoco_actuation.py:127: DeprecationWarning: `np.bool` is a deprecated alias for the builtin `bool`. To silence this warning, use `bool` by itself. Doing this will not modify any behavior and is safe. If you specifically wanted the numpy scalar type, use `np.bool_` here.\n",
      "Deprecated in NumPy 1.20; for more details and guidance: https://numpy.org/devdocs/release/1.20.0-notes.html#deprecations\n",
      "  is_limited = physics.bind(actuators).ctrllimited.astype(np.bool)\n"
     ]
    }
   ],
   "source": [
    "env = environment.rgb_stacking('rgb_train_random')"
   ],
   "metadata": {
    "collapsed": false,
    "pycharm": {
     "name": "#%%\n"
    }
   }
  },
  {
   "cell_type": "code",
   "execution_count": 4,
   "outputs": [
    {
     "name": "stdout",
     "output_type": "stream",
     "text": [
      "Observation spec:\n",
      "sawyer/joints/angle: Array(shape=(3, 7), dtype=dtype('float32'), name='robot0_arm_joint_pos')\n",
      "sawyer/joints/velocity: Array(shape=(3, 7), dtype=dtype('float32'), name='robot0_arm_joint_vel')\n",
      "sawyer/joints/torque: Array(shape=(3, 7), dtype=dtype('float32'), name='robot0_arm_joint_torques')\n",
      "sawyer/tcp/velocity: Array(shape=(3, 6), dtype=dtype('float32'), name='robot0_wrist_site_vel_world')\n",
      "gripper/joints/angle: Array(shape=(3,), dtype=dtype('float32'), name='robot0_gripper_pos')\n",
      "gripper/joints/velocity: Array(shape=(3,), dtype=dtype('float32'), name='robot0_gripper_vel')\n",
      "gripper/grasp: Array(shape=(3,), dtype=dtype('uint8'), name='robot0_gripper_grasp')\n",
      "wrist/force: Array(shape=(3, 3), dtype=dtype('float32'), name='robot0_wrist_force')\n",
      "wrist/torque: Array(shape=(3, 3), dtype=dtype('float32'), name='robot0_wrist_torque')\n",
      "rgb30_red/abs_pose: Array(shape=(3, 7), dtype=dtype('float32'), name='rgb_object_red_pose')\n",
      "rgb30_green/abs_pose: Array(shape=(3, 7), dtype=dtype('float32'), name='rgb_object_green_pose')\n",
      "rgb30_blue/abs_pose: Array(shape=(3, 7), dtype=dtype('float32'), name='rgb_object_blue_pose')\n",
      "sawyer/pinch/pose: Array(shape=(3, 7), dtype=dtype('float32'), name='robot0_tcp_pose')\n",
      "sawyer/tcp/pose: Array(shape=(3, 7), dtype=dtype('float32'), name='robot0_wrist_site_pose')\n",
      "rgb30_red/to_pinch: Array(shape=(3, 7), dtype=dtype('float32'), name='red_to_pinch')\n",
      "rgb30_green/to_pinch: Array(shape=(3, 7), dtype=dtype('float32'), name='green_to_pinch')\n",
      "rgb30_blue/to_pinch: Array(shape=(3, 7), dtype=dtype('float32'), name='blue_to_pinch')\n",
      "action/environment: Array(shape=(2, 8), dtype=dtype('float32'), name='robot0_previous_action')\n"
     ]
    }
   ],
   "source": [
    "print('Observation spec:')\n",
    "for k, v in env.observation_spec().items():\n",
    "    print(k, v, sep=': ')"
   ],
   "metadata": {
    "collapsed": false,
    "pycharm": {
     "name": "#%%\n"
    }
   }
  },
  {
   "cell_type": "code",
   "execution_count": 6,
   "outputs": [
    {
     "name": "stdout",
     "output_type": "stream",
     "text": [
      "Action spec: BoundedArray(shape=(5,), dtype=dtype('float32'), name='robot0_cart_4d_vel0\\trobot0_cart_4d_vel1\\trobot0_cart_4d_vel2\\trobot0_cart_4d_vel3\\trobot0_gripper0', minimum=[-7.00e-02 -7.00e-02 -7.00e-02 -1.00e+00 -2.55e+02], maximum=[7.00e-02 7.00e-02 7.00e-02 1.00e+00 2.55e+02])\n"
     ]
    }
   ],
   "source": [
    "print('Action spec:', env.action_spec())"
   ],
   "metadata": {
    "collapsed": false,
    "pycharm": {
     "name": "#%%\n"
    }
   }
  },
  {
   "cell_type": "code",
   "execution_count": 7,
   "outputs": [
    {
     "name": "stdout",
     "output_type": "stream",
     "text": [
      "Reward spec: Array(shape=(), dtype=dtype('float32'), name='reward')\n"
     ]
    }
   ],
   "source": [
    "print('Reward spec:', env.reward_spec())"
   ],
   "metadata": {
    "collapsed": false,
    "pycharm": {
     "name": "#%%\n"
    }
   }
  },
  {
   "cell_type": "code",
   "execution_count": null,
   "outputs": [],
   "source": [
    "env.close()"
   ],
   "metadata": {
    "collapsed": false,
    "pycharm": {
     "name": "#%%\n"
    }
   }
  }
 ],
 "metadata": {
  "kernelspec": {
   "display_name": "Python 3",
   "language": "python",
   "name": "python3"
  },
  "language_info": {
   "codemirror_mode": {
    "name": "ipython",
    "version": 2
   },
   "file_extension": ".py",
   "mimetype": "text/x-python",
   "name": "python",
   "nbconvert_exporter": "python",
   "pygments_lexer": "ipython2",
   "version": "2.7.6"
  }
 },
 "nbformat": 4,
 "nbformat_minor": 0
}